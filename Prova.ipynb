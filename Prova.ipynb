{
 "cells": [
  {
   "cell_type": "markdown",
   "metadata": {},
   "source": [
    "# Problema 1\n",
    "Estima-se que a produção semanal de uma fábrica é dada pela função f(x, y) = 1.200x+ 500y+ x^2y – x^3– y^2 unidades, onde x é o número de operários especializados e y o número de operários não especializados utilizados no trabalho. No momento, a mão de obra disponível é constituída por 30 operários especializados e 60 operários não especializados. Use a análise marginal para estimar a variação da\n",
    "produção se mais 1 operário especializado for contratado e o número de operários não especializado permanecer constante.\n"
   ]
  },
  {
   "cell_type": "markdown",
   "metadata": {},
   "source": [
    "### Compreender o problema\n",
    "Através da leitura do problema extrair os dados e elementos desconhecidos.\n",
    "- Análise Marginal: em economia se refere ao uso de uma derivada para estimar a variação do valor de uma função em consequência de uma mudança no valor de uma das variáveis.\n",
    "- Taxa de Variação: calcular a função com uma das variáveis enquanto a outra permanece constante, o que corresponde a derivar a função em relação  a uma das variáveis mantendo fixa a outra variável. Este processo é conhecido como derivação parcial; a derivada resultante é chamada de derivada parcial da função.\n",
    "- Determinar e interpretar os dados do problema. A fábrica possui operários especializados e não especializados para produção semanal em unidades. \n",
    "- A mão de obra disponível é constituída por 30 operários especializados.\n",
    "- 60 operários não especializados.\n",
    "#### O objetivo do problema é determinar a variação da produção se mais 1 operário especializado for contratado e o número de operários não especializado permanecer constante. \n"
   ]
  },
  {
   "cell_type": "markdown",
   "metadata": {},
   "source": [
    "### Solução do modelo matemático "
   ]
  },
  {
   "cell_type": "code",
   "execution_count": 14,
   "metadata": {
    "scrolled": true
   },
   "outputs": [
    {
     "name": "stdout",
     "output_type": "stream",
     "text": [
      "Análise Marginal: 2100\n",
      "Variação: 2069\n"
     ]
    }
   ],
   "source": [
    "import numpy as np\n",
    "import sympy as sym\n",
    "\n",
    "x_symbol, y_symbol, z_symbol = sym.symbols('x y z')\n",
    "f = 1200*x_symbol + 500*y_symbol + x_symbol**2*y_symbol - x_symbol**3 - y_symbol**2\n",
    "f_linha = sym.diff(f, x_symbol)\n",
    "z = lambda x , y: eval(str(f_linha))\n",
    "print('Análise Marginal:', z(30, 60))\n",
    "\n",
    "fx = lambda x,y: 1200*x + 500*y + x**2*y - x**3 - y**2\n",
    "print('Variação:', fx(30+1, 60) - fx(30, 60))"
   ]
  },
  {
   "cell_type": "markdown",
   "metadata": {},
   "source": [
    "### Interpretação da solução\n",
    "Analisando o resultado obtido com os valores originais e com o valor de um funcionário especializado a mais... Constata-se que a produção aumenta e que a taa de variação é de 2069. A análise marginal demonstra uma estimativa parecida com a taxa exata.\n",
    "\n"
   ]
  },
  {
   "cell_type": "markdown",
   "metadata": {},
   "source": [
    "# Problema 2\n",
    "Um empresário calcula que, quando x unidades de um certo produto são\n",
    "fabricadas, o lucro é dado por f(x) = - 400x2+ 6.800x-12.000 reais. Qual é a taxa de\n",
    "variação do lucro em relação ao nível de produção xquando estão sendo produzidas\n",
    "9.000 unidades? Justifique a resposta."
   ]
  },
  {
   "cell_type": "code",
   "execution_count": 28,
   "metadata": {},
   "outputs": [
    {
     "name": "stdout",
     "output_type": "stream",
     "text": [
      "Derivada: -800*x + 6800\n",
      "Taxa: -7193200\n"
     ]
    }
   ],
   "source": [
    "import numpy as np\n",
    "import sympy as sp\n",
    "\n",
    "f = -400 * x_symbol ** 2 + 6800 * x_symbol - 12000\n",
    "f_linha = sp.diff (f, x_symbol)\n",
    "print ('Derivada:', f_linha)\n",
    "taxa = lambda x: eval(str(f_linha))\n",
    "print('Taxa:', taxa(9000))"
   ]
  },
  {
   "cell_type": "markdown",
   "metadata": {},
   "source": [
    "### Interpretação da solução\n",
    "Para obter a variação do lucro, usamos a derivada. Para saber qual a taxa de variação do lucro em relação a produção de 9000 unidades, aplicamos esse valor á formula da derivada. Obtendo um resultado negativo... (-7193200)\n"
   ]
  },
  {
   "cell_type": "markdown",
   "metadata": {},
   "source": [
    "# Problema 3\n",
    "ÁREA SUPERFICIAL DO CORPO HUMANO É dada pela expressão\n",
    "empírica S(W, H) = 0,0072W^0,425*H^0,725 , onde W (Kg) e H(cm), são, respectivamente, o peso e a altura da pessoa. No momento, uma certa criança pesa 34Kg e tem 1m e 20cm de altura.\n",
    "- Determine os dados do problema.\n",
    "- Calcule as derivadas parciais Sw(50,163) e SH(50, 163) e interprete-as como taxas de variação.\n",
    "- Estime qual será a variação da área superficial se a criança engordar 1 Kg e altura permanecer inalterada. "
   ]
  },
  {
   "cell_type": "code",
   "execution_count": 36,
   "metadata": {},
   "outputs": [
    {
     "name": "stdout",
     "output_type": "stream",
     "text": [
      "Derivada parcial em w: 0.00306*h**0.725*w**(-0.575)\n",
      "Variação w(50,163): 0.01296133355545553\n",
      "Derivada parcial em h: 0.00522*h**(-0.275)*w**0.425\n",
      "Variação h(50,163): 0.00678236508675948\n",
      "Variação da área superficial da criança que engordou: 0.012743499444844668\n",
      "Prova: 0.012849777854716526\n"
     ]
    }
   ],
   "source": [
    "\n",
    "##dados\n",
    "w = 34\n",
    "h = 120\n",
    "\n",
    "w_symbol, h_symbol = sp.symbols('w h')\n",
    "f = 0.0072*w_symbol**0.425*h_symbol**0.725\n",
    "f_w = sp.diff(f, w_symbol)\n",
    "\n",
    "#derivada parcial em w e aplicação\n",
    "print('Derivada parcial em w:', f_w)\n",
    "taxa_w = lambda w, h: eval(str(f_w))\n",
    "print('Variação w(50,163):', taxa_w(50, 163))\n",
    "\n",
    "f_h = sp.diff(f, h_symbol)\n",
    "\n",
    "#derivada parcial em h e aplicação\n",
    "print('Derivada parcial em h:', f_h)\n",
    "taxa_h = lambda w, h: eval(str(f_h))\n",
    "print('Variação h(50,163):', taxa_h(50, 163))\n",
    " \n",
    "#Variação da área quando o peso aumenta em 1 unidade\n",
    "print('Variação da área superficial da criança que engordou:', taxa_w(w+1, h))\n",
    "# Prova\n",
    "f = lambda w, h: 0.0072*w**0.425*h**0.725\n",
    "print('Prova:', f(w+1, h)-f(w, h))"
   ]
  }
 ],
 "metadata": {
  "kernelspec": {
   "display_name": "Python 3",
   "language": "python",
   "name": "python3"
  },
  "language_info": {
   "codemirror_mode": {
    "name": "ipython",
    "version": 3
   },
   "file_extension": ".py",
   "mimetype": "text/x-python",
   "name": "python",
   "nbconvert_exporter": "python",
   "pygments_lexer": "ipython3",
   "version": "3.7.1"
  }
 },
 "nbformat": 4,
 "nbformat_minor": 1
}
